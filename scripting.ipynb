{
 "cells": [
  {
   "cell_type": "code",
   "execution_count": 2,
   "metadata": {},
   "outputs": [],
   "source": [
    "import alpaca_trade_api as tradeapi"
   ]
  },
  {
   "cell_type": "code",
   "execution_count": 3,
   "metadata": {},
   "outputs": [],
   "source": [
    "API_KEY = \"PK29V27BVCTOM85QDEXO\"\n",
    "API_SECRET = \"Ea/CAy1i3r6UW3S4ChFfqA4OTAtDZnGLNrf8aSMH\"\n",
    "ENDPOINT = \"https://paper-api.alpaca.markets\""
   ]
  },
  {
   "cell_type": "code",
   "execution_count": 4,
   "metadata": {},
   "outputs": [],
   "source": [
    "alpaca = tradeapi.REST(API_KEY, API_SECRET, ENDPOINT, 'v2')"
   ]
  },
  {
   "cell_type": "code",
   "execution_count": 5,
   "metadata": {},
   "outputs": [],
   "source": [
    "assets = alpaca.list_assets()"
   ]
  },
  {
   "cell_type": "code",
   "execution_count": 6,
   "metadata": {},
   "outputs": [
    {
     "data": {
      "text/plain": [
       "[Position({   'asset_class': 'us_equity',\n",
       "     'asset_id': '9e2ca5f0-2552-439e-8a8e-bf47e3cc63cc',\n",
       "     'avg_entry_price': '0.7878',\n",
       "     'change_today': '0.0215276877188432',\n",
       "     'cost_basis': '3987.0558',\n",
       "     'current_price': '0.7877',\n",
       "     'exchange': 'NASDAQ',\n",
       "     'lastday_price': '0.7711',\n",
       "     'market_value': '3986.5497',\n",
       "     'qty': '5061',\n",
       "     'side': 'long',\n",
       "     'symbol': 'ADMP',\n",
       "     'unrealized_intraday_pl': '-0.5061',\n",
       "     'unrealized_intraday_plpc': '-0.0001269357705001',\n",
       "     'unrealized_pl': '-0.5061',\n",
       "     'unrealized_plpc': '-0.0001269357705001'}),\n",
       " Position({   'asset_class': 'us_equity',\n",
       "     'asset_id': '7a75a534-8ede-4fdb-bb75-36ae18bf95a0',\n",
       "     'avg_entry_price': '1.31',\n",
       "     'change_today': '0.0403225806451613',\n",
       "     'cost_basis': '4192',\n",
       "     'current_price': '1.29',\n",
       "     'exchange': 'NASDAQ',\n",
       "     'lastday_price': '1.24',\n",
       "     'market_value': '4128',\n",
       "     'qty': '3200',\n",
       "     'side': 'long',\n",
       "     'symbol': 'ADIL',\n",
       "     'unrealized_intraday_pl': '-64',\n",
       "     'unrealized_intraday_plpc': '-0.0152671755725191',\n",
       "     'unrealized_pl': '-64',\n",
       "     'unrealized_plpc': '-0.0152671755725191'}),\n",
       " Position({   'asset_class': 'us_equity',\n",
       "     'asset_id': '578f8221-6f4e-4ccb-b6a3-f5654927e4a8',\n",
       "     'avg_entry_price': '0.202',\n",
       "     'change_today': '0.0090045022511256',\n",
       "     'cost_basis': '4126.658',\n",
       "     'current_price': '0.2017',\n",
       "     'exchange': 'NASDAQ',\n",
       "     'lastday_price': '0.1999',\n",
       "     'market_value': '4120.5293',\n",
       "     'qty': '20429',\n",
       "     'side': 'long',\n",
       "     'symbol': 'ACST',\n",
       "     'unrealized_intraday_pl': '-6.1287',\n",
       "     'unrealized_intraday_plpc': '-0.0014851485148515',\n",
       "     'unrealized_pl': '-6.1287',\n",
       "     'unrealized_plpc': '-0.0014851485148515'}),\n",
       " Position({   'asset_class': 'us_equity',\n",
       "     'asset_id': '7b73b6ff-3413-46ce-91cc-79f886694810',\n",
       "     'avg_entry_price': '7.86',\n",
       "     'change_today': '0.0711354309165527',\n",
       "     'cost_basis': '4047.9',\n",
       "     'current_price': '7.83',\n",
       "     'exchange': 'NASDAQ',\n",
       "     'lastday_price': '7.31',\n",
       "     'market_value': '4032.45',\n",
       "     'qty': '515',\n",
       "     'side': 'long',\n",
       "     'symbol': 'ACHV',\n",
       "     'unrealized_intraday_pl': '-15.45',\n",
       "     'unrealized_intraday_plpc': '-0.0038167938931298',\n",
       "     'unrealized_pl': '-15.45',\n",
       "     'unrealized_plpc': '-0.0038167938931298'})]"
      ]
     },
     "execution_count": 6,
     "metadata": {},
     "output_type": "execute_result"
    }
   ],
   "source": [
    "alpaca.list_positions()"
   ]
  },
  {
   "cell_type": "code",
   "execution_count": 7,
   "metadata": {},
   "outputs": [],
   "source": [
    "asset = assets[0]"
   ]
  },
  {
   "cell_type": "code",
   "execution_count": 8,
   "metadata": {},
   "outputs": [
    {
     "data": {
      "text/plain": [
       "Asset({   'class': 'us_equity',\n",
       "    'easy_to_borrow': False,\n",
       "    'exchange': 'NYSE',\n",
       "    'id': 'b4318aa6-7ffc-4bf3-a6df-74296f2e12ae',\n",
       "    'marginable': True,\n",
       "    'name': 'Arbor Realty Trust, Inc. 8.50% Series C Cumulative Redeemable '\n",
       "            'Preferred Stock, Liquidation Preferenc',\n",
       "    'shortable': False,\n",
       "    'status': 'active',\n",
       "    'symbol': 'ABR-C',\n",
       "    'tradable': True})"
      ]
     },
     "execution_count": 8,
     "metadata": {},
     "output_type": "execute_result"
    }
   ],
   "source": [
    "alpaca.get_asset('ABR-C')"
   ]
  },
  {
   "cell_type": "code",
   "execution_count": 9,
   "metadata": {},
   "outputs": [
    {
     "data": {
      "text/plain": [
       "10051"
      ]
     },
     "execution_count": 9,
     "metadata": {},
     "output_type": "execute_result"
    }
   ],
   "source": [
    "len(assets)"
   ]
  },
  {
   "cell_type": "code",
   "execution_count": 10,
   "metadata": {},
   "outputs": [
    {
     "data": {
      "text/plain": [
       "[Position({   'asset_class': 'us_equity',\n",
       "     'asset_id': '9e2ca5f0-2552-439e-8a8e-bf47e3cc63cc',\n",
       "     'avg_entry_price': '0.7878',\n",
       "     'change_today': '0.0228245363766049',\n",
       "     'cost_basis': '3987.0558',\n",
       "     'current_price': '0.7887',\n",
       "     'exchange': 'NASDAQ',\n",
       "     'lastday_price': '0.7711',\n",
       "     'market_value': '3991.6107',\n",
       "     'qty': '5061',\n",
       "     'side': 'long',\n",
       "     'symbol': 'ADMP',\n",
       "     'unrealized_intraday_pl': '4.5549',\n",
       "     'unrealized_intraday_plpc': '0.0011424219345011',\n",
       "     'unrealized_pl': '4.5549',\n",
       "     'unrealized_plpc': '0.0011424219345011'}),\n",
       " Position({   'asset_class': 'us_equity',\n",
       "     'asset_id': '7a75a534-8ede-4fdb-bb75-36ae18bf95a0',\n",
       "     'avg_entry_price': '1.31',\n",
       "     'change_today': '0.0483870967741935',\n",
       "     'cost_basis': '4192',\n",
       "     'current_price': '1.3',\n",
       "     'exchange': 'NASDAQ',\n",
       "     'lastday_price': '1.24',\n",
       "     'market_value': '4160',\n",
       "     'qty': '3200',\n",
       "     'side': 'long',\n",
       "     'symbol': 'ADIL',\n",
       "     'unrealized_intraday_pl': '-32',\n",
       "     'unrealized_intraday_plpc': '-0.0076335877862595',\n",
       "     'unrealized_pl': '-32',\n",
       "     'unrealized_plpc': '-0.0076335877862595'}),\n",
       " Position({   'asset_class': 'us_equity',\n",
       "     'asset_id': '578f8221-6f4e-4ccb-b6a3-f5654927e4a8',\n",
       "     'avg_entry_price': '0.2024934414441221',\n",
       "     'change_today': '0.0240120060030015',\n",
       "     'cost_basis': '8166.358',\n",
       "     'current_price': '0.2047',\n",
       "     'exchange': 'NASDAQ',\n",
       "     'lastday_price': '0.1999',\n",
       "     'market_value': '8255.3463',\n",
       "     'qty': '40329',\n",
       "     'side': 'long',\n",
       "     'symbol': 'ACST',\n",
       "     'unrealized_intraday_pl': '88.9883',\n",
       "     'unrealized_intraday_plpc': '0.0108969383904061',\n",
       "     'unrealized_pl': '88.9883',\n",
       "     'unrealized_plpc': '0.0108969383904061'}),\n",
       " Position({   'asset_class': 'us_equity',\n",
       "     'asset_id': '7b73b6ff-3413-46ce-91cc-79f886694810',\n",
       "     'avg_entry_price': '7.86',\n",
       "     'change_today': '0.0697674418604651',\n",
       "     'cost_basis': '8095.8',\n",
       "     'current_price': '7.82',\n",
       "     'exchange': 'NASDAQ',\n",
       "     'lastday_price': '7.31',\n",
       "     'market_value': '8054.6',\n",
       "     'qty': '1030',\n",
       "     'side': 'long',\n",
       "     'symbol': 'ACHV',\n",
       "     'unrealized_intraday_pl': '-41.2',\n",
       "     'unrealized_intraday_plpc': '-0.005089058524173',\n",
       "     'unrealized_pl': '-41.2',\n",
       "     'unrealized_plpc': '-0.005089058524173'})]"
      ]
     },
     "execution_count": 10,
     "metadata": {},
     "output_type": "execute_result"
    }
   ],
   "source": [
    "alpaca.list_positions()"
   ]
  },
  {
   "cell_type": "code",
   "execution_count": null,
   "metadata": {},
   "outputs": [],
   "source": []
  },
  {
   "cell_type": "code",
   "execution_count": null,
   "metadata": {},
   "outputs": [],
   "source": []
  },
  {
   "cell_type": "code",
   "execution_count": null,
   "metadata": {},
   "outputs": [],
   "source": []
  },
  {
   "cell_type": "code",
   "execution_count": null,
   "metadata": {},
   "outputs": [],
   "source": []
  },
  {
   "cell_type": "code",
   "execution_count": null,
   "metadata": {},
   "outputs": [],
   "source": []
  },
  {
   "cell_type": "code",
   "execution_count": null,
   "metadata": {},
   "outputs": [],
   "source": []
  },
  {
   "cell_type": "code",
   "execution_count": null,
   "metadata": {},
   "outputs": [],
   "source": []
  }
 ],
 "metadata": {
  "kernelspec": {
   "display_name": "Python 3",
   "language": "python",
   "name": "python3"
  },
  "language_info": {
   "codemirror_mode": {
    "name": "ipython",
    "version": 3
   },
   "file_extension": ".py",
   "mimetype": "text/x-python",
   "name": "python",
   "nbconvert_exporter": "python",
   "pygments_lexer": "ipython3",
   "version": "3.7.6"
  }
 },
 "nbformat": 4,
 "nbformat_minor": 4
}
